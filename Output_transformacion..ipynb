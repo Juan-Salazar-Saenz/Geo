{
 "cells": [
  {
   "cell_type": "code",
   "execution_count": 1,
   "metadata": {},
   "outputs": [],
   "source": [
    "import pandas as pd\n",
    "import json"
   ]
  },
  {
   "attachments": {},
   "cell_type": "markdown",
   "metadata": {},
   "source": [
    "#Tranformacion de barrios bogota"
   ]
  },
  {
   "cell_type": "code",
   "execution_count": 2,
   "metadata": {},
   "outputs": [],
   "source": [
    "codigo_localidad=[]\n",
    "codigo_upz=[]\n",
    "codigo_barrio=[]\n",
    "nombre=[]\n",
    "geo_shape=[]\n",
    "\n",
    "\n",
    "archivo_json = \"Base - barrios-bogota.json\"  # Reemplaza con la ruta a tu archivo JSON\n",
    "\n",
    "with open(archivo_json, 'r') as f:\n",
    "    datos_json = json.load(f)\n",
    "    for feature in datos_json:\n",
    "      codigo_localidad.append(feature['codigo_localidad'])\n",
    "      codigo_upz.append(feature['codigo_upz'])\n",
    "      codigo_barrio.append(feature['codigo_barrio'])\n",
    "      nombre.append(feature['nombre'])\n",
    "      geo_shape.append(feature['geo_shape']['geometry'])\n",
    "      #geo_shape.append(feature['geo_shape']['geometry']['coordinates'])\n",
    "\n",
    "datos = {'codigo_localidad':codigo_localidad,\n",
    "         'nombre':nombre,\n",
    "         'codigo_upz':codigo_upz,\n",
    "         'codigo_barrio':codigo_barrio,\n",
    "         'geo_shape':geo_shape,}\n",
    "datos_df = pd.DataFrame(datos)\n",
    "datos_df.head()"
   ]
  },
  {
   "cell_type": "code",
   "execution_count": 3,
   "metadata": {},
   "outputs": [],
   "source": [
    "json_A = {}\n",
    "json_A['type'] = 'FeatureCollection'\n",
    "json_A['features'] = []\n",
    "\n",
    "for geo in range(geo_shape.__len__()):\n",
    "  data = {}\n",
    "  data['type'] = 'Feature'\n",
    "  data['properties'] = {\n",
    "      'codigo_localidad': datos_df['codigo_localidad'].iloc[geo],\n",
    "      'codigo_upz' : datos_df['codigo_upz'].iloc[geo],\n",
    "      'nombre' : datos_df['nombre'].iloc[geo],\n",
    "      'codigo_barrio' : datos_df['codigo_barrio'].iloc[geo]}\n",
    "\n",
    "  data['geometry'] = datos_df['geo_shape'].iloc[geo]\n",
    "  data['id'] = datos_df['nombre'].iloc[geo]\n",
    "  json_A['features'].append(data)"
   ]
  },
  {
   "cell_type": "code",
   "execution_count": 4,
   "metadata": {},
   "outputs": [],
   "source": [
    "with open('Output-Barrios-Bogota.json', 'w') as file:\n",
    "    #json.dump(json_A, file, indent=4)\n",
    "    json.dump(json_A, file)"
   ]
  },
  {
   "attachments": {},
   "cell_type": "markdown",
   "metadata": {},
   "source": [
    "#tranformacion datos departamento colombia"
   ]
  },
  {
   "cell_type": "code",
   "execution_count": null,
   "metadata": {},
   "outputs": [],
   "source": [
    "archivo_json = \"Base - Departamentos_colombia.json\"  # Reemplaza con la ruta a tu archivo JSON\n",
    "\n",
    "dpto=[]\n",
    "nombre_dpt=[]\n",
    "lon=[]\n",
    "lat=[]\n",
    "geo_shape=[]\n",
    "\n",
    "with open(archivo_json, 'r') as f:\n",
    "    datos_json = json.load(f)\n",
    "    for feature in datos_json:      \n",
    "      dpto.append(feature['dpto'])\n",
    "      nombre_dpt.append(feature['nombre_dpt'])\n",
    "      lon.append(feature['geo_point_2d'][\"lon\"])\n",
    "      lat.append(feature['geo_point_2d'][\"lat\"])\n",
    "      geo_shape.append(feature['geo_shape']['geometry'])\n",
    "      \n",
    "datos_dep = {'dpto':dpto,\n",
    "          'nombre_dpt':nombre_dpt,\n",
    "          'lon':lon,\n",
    "          'lat':lat,\n",
    "          'geo_shape':geo_shape,}\n",
    "datos_dep_df = pd.DataFrame(datos_dep)\n",
    "datos_dep_df.head()"
   ]
  },
  {
   "cell_type": "code",
   "execution_count": null,
   "metadata": {},
   "outputs": [],
   "source": [
    "json_A = {}\n",
    "json_A['type'] = 'FeatureCollection'\n",
    "json_A['features'] = []\n",
    "\n",
    "for geo in range(geo_shape.__len__()):\n",
    "    data = {}\n",
    "    data['type'] = 'Feature'\n",
    "    data['properties'] = {\n",
    "        'dpto': datos_dep_df['dpto'].iloc[geo],\n",
    "        'nombre_dpt' : datos_dep_df['nombre_dpt'].iloc[geo],\n",
    "        'lon' : datos_dep_df['lon'].iloc[geo],\n",
    "        'lat' : datos_dep_df['lat'].iloc[geo]}\n",
    "    data['geometry'] = datos_dep_df['geo_shape'].iloc[geo]\n",
    "    data['id'] = datos_dep_df['dpto'].iloc[geo]\n",
    "    json_A['features'].append(data)\n",
    "    \n",
    "with open('Output-Departamentos-Colombia.json', 'w') as file:\n",
    "    json.dump(json_A, file)"
   ]
  }
 ],
 "metadata": {
  "kernelspec": {
   "display_name": "Python 3",
   "language": "python",
   "name": "python3"
  },
  "language_info": {
   "codemirror_mode": {
    "name": "ipython",
    "version": 3
   },
   "file_extension": ".py",
   "mimetype": "text/x-python",
   "name": "python",
   "nbconvert_exporter": "python",
   "pygments_lexer": "ipython3",
   "version": "3.11.3"
  },
  "orig_nbformat": 4
 },
 "nbformat": 4,
 "nbformat_minor": 2
}
