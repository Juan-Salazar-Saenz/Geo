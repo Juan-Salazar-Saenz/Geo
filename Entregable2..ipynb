{
 "cells": [
  {
   "cell_type": "code",
   "execution_count": 151,
   "metadata": {},
   "outputs": [],
   "source": [
    "# Pagina para hacer polygonos de localizaciones https://geojson.io/#map=6.06/4.87/-73.261\n",
    "import warnings\n",
    "warnings.filterwarnings('ignore')"
   ]
  },
  {
   "cell_type": "code",
   "execution_count": 152,
   "metadata": {},
   "outputs": [],
   "source": [
    "import pandas as pd"
   ]
  },
  {
   "attachments": {},
   "cell_type": "markdown",
   "metadata": {},
   "source": [
    "Cargamos la tabla de icfes"
   ]
  },
  {
   "cell_type": "code",
   "execution_count": 153,
   "metadata": {},
   "outputs": [
    {
     "data": {
      "text/html": [
       "<div>\n",
       "<style scoped>\n",
       "    .dataframe tbody tr th:only-of-type {\n",
       "        vertical-align: middle;\n",
       "    }\n",
       "\n",
       "    .dataframe tbody tr th {\n",
       "        vertical-align: top;\n",
       "    }\n",
       "\n",
       "    .dataframe thead th {\n",
       "        text-align: right;\n",
       "    }\n",
       "</style>\n",
       "<table border=\"1\" class=\"dataframe\">\n",
       "  <thead>\n",
       "    <tr style=\"text-align: right;\">\n",
       "      <th></th>\n",
       "      <th>ESTU_TIPODOCUMENTO</th>\n",
       "      <th>ESTU_NACIONALIDAD</th>\n",
       "      <th>ESTU_GENERO</th>\n",
       "      <th>ESTU_FECHANACIMIENTO</th>\n",
       "      <th>PERIODO</th>\n",
       "      <th>ESTU_CONSECUTIVO</th>\n",
       "      <th>ESTU_ESTUDIANTE</th>\n",
       "      <th>ESTU_TIENEETNIA</th>\n",
       "      <th>ESTU_PAIS_RESIDE</th>\n",
       "      <th>ESTU_ETNIA</th>\n",
       "      <th>ESTU_DEPTO_RESIDE</th>\n",
       "      <th>ESTU_COD_RESIDE_DEPTO</th>\n",
       "      <th>ESTU_MCPIO_RESIDE</th>\n",
       "      <th>ESTU_COD_RESIDE_MCPIO</th>\n",
       "      <th>FAMI_ESTRATOVIVIENDA</th>\n",
       "      <th>FAMI_PERSONASHOGAR</th>\n",
       "      <th>FAMI_CUARTOSHOGAR</th>\n",
       "      <th>FAMI_EDUCACIONPADRE</th>\n",
       "      <th>FAMI_EDUCACIONMADRE</th>\n",
       "      <th>FAMI_TRABAJOLABORPADRE</th>\n",
       "      <th>FAMI_TRABAJOLABORMADRE</th>\n",
       "      <th>FAMI_TIENEINTERNET</th>\n",
       "      <th>FAMI_TIENESERVICIOTV</th>\n",
       "      <th>FAMI_TIENECOMPUTADOR</th>\n",
       "      <th>FAMI_TIENELAVADORA</th>\n",
       "      <th>FAMI_TIENEHORNOMICROOGAS</th>\n",
       "      <th>FAMI_TIENEAUTOMOVIL</th>\n",
       "      <th>FAMI_TIENEMOTOCICLETA</th>\n",
       "      <th>FAMI_TIENECONSOLAVIDEOJUEGOS</th>\n",
       "      <th>FAMI_NUMLIBROS</th>\n",
       "      <th>FAMI_COMELECHEDERIVADOS</th>\n",
       "      <th>FAMI_COMECARNEPESCADOHUEVO</th>\n",
       "      <th>FAMI_COMECEREALFRUTOSLEGUMBRE</th>\n",
       "      <th>FAMI_SITUACIONECONOMICA</th>\n",
       "      <th>ESTU_DEDICACIONLECTURADIARIA</th>\n",
       "      <th>ESTU_DEDICACIONINTERNET</th>\n",
       "      <th>ESTU_HORASSEMANATRABAJA</th>\n",
       "      <th>ESTU_TIPOREMUNERACION</th>\n",
       "      <th>COLE_CODIGO_ICFES</th>\n",
       "      <th>COLE_COD_DANE_ESTABLECIMIENTO</th>\n",
       "      <th>COLE_NOMBRE_ESTABLECIMIENTO</th>\n",
       "      <th>COLE_GENERO</th>\n",
       "      <th>COLE_NATURALEZA</th>\n",
       "      <th>COLE_CALENDARIO</th>\n",
       "      <th>COLE_BILINGUE</th>\n",
       "      <th>COLE_CARACTER</th>\n",
       "      <th>COLE_COD_DANE_SEDE</th>\n",
       "      <th>COLE_NOMBRE_SEDE</th>\n",
       "      <th>COLE_SEDE_PRINCIPAL</th>\n",
       "      <th>COLE_AREA_UBICACION</th>\n",
       "      <th>COLE_JORNADA</th>\n",
       "      <th>COLE_COD_MCPIO_UBICACION</th>\n",
       "      <th>COLE_MCPIO_UBICACION</th>\n",
       "      <th>COLE_COD_DEPTO_UBICACION</th>\n",
       "      <th>COLE_DEPTO_UBICACION</th>\n",
       "      <th>ESTU_PRIVADO_LIBERTAD</th>\n",
       "      <th>ESTU_COD_MCPIO_PRESENTACION</th>\n",
       "      <th>ESTU_MCPIO_PRESENTACION</th>\n",
       "      <th>ESTU_DEPTO_PRESENTACION</th>\n",
       "      <th>ESTU_COD_DEPTO_PRESENTACION</th>\n",
       "      <th>PUNT_LECTURA_CRITICA</th>\n",
       "      <th>PERCENTIL_LECTURA_CRITICA</th>\n",
       "      <th>DESEMP_LECTURA_CRITICA</th>\n",
       "      <th>PUNT_MATEMATICAS</th>\n",
       "      <th>PERCENTIL_MATEMATICAS</th>\n",
       "      <th>DESEMP_MATEMATICAS</th>\n",
       "      <th>PUNT_C_NATURALES</th>\n",
       "      <th>PERCENTIL_C_NATURALES</th>\n",
       "      <th>DESEMP_C_NATURALES</th>\n",
       "      <th>PUNT_SOCIALES_CIUDADANAS</th>\n",
       "      <th>PERCENTIL_SOCIALES_CIUDADANAS</th>\n",
       "      <th>DESEMP_SOCIALES_CIUDADANAS</th>\n",
       "      <th>PUNT_INGLES</th>\n",
       "      <th>PERCENTIL_INGLES</th>\n",
       "      <th>DESEMP_INGLES</th>\n",
       "      <th>PUNT_GLOBAL</th>\n",
       "      <th>PERCENTIL_GLOBAL</th>\n",
       "      <th>ESTU_INSE_INDIVIDUAL</th>\n",
       "      <th>ESTU_NSE_INDIVIDUAL</th>\n",
       "      <th>ESTU_NSE_ESTABLECIMIENTO</th>\n",
       "      <th>ESTU_ESTADOINVESTIGACION</th>\n",
       "      <th>ESTU_GENERACION-E</th>\n",
       "    </tr>\n",
       "  </thead>\n",
       "  <tbody>\n",
       "    <tr>\n",
       "      <th>0</th>\n",
       "      <td>TI</td>\n",
       "      <td>COLOMBIA</td>\n",
       "      <td>M</td>\n",
       "      <td>02/18/2002 12:00:00 AM</td>\n",
       "      <td>20194</td>\n",
       "      <td>SB11201940031558</td>\n",
       "      <td>ESTUDIANTE</td>\n",
       "      <td>No</td>\n",
       "      <td>COLOMBIA</td>\n",
       "      <td>-</td>\n",
       "      <td>MAGDALENA</td>\n",
       "      <td>47</td>\n",
       "      <td>SANTA ANA</td>\n",
       "      <td>47707</td>\n",
       "      <td>Estrato 3</td>\n",
       "      <td>5 a 6</td>\n",
       "      <td>Cinco</td>\n",
       "      <td>Educación profesional completa</td>\n",
       "      <td>Secundaria (Bachillerato) completa</td>\n",
       "      <td>No aplica</td>\n",
       "      <td>Trabaja en el hogar, no trabaja o estudia</td>\n",
       "      <td>Si</td>\n",
       "      <td>Si</td>\n",
       "      <td>No</td>\n",
       "      <td>Si</td>\n",
       "      <td>Si</td>\n",
       "      <td>No</td>\n",
       "      <td>No</td>\n",
       "      <td>No</td>\n",
       "      <td>MÁS DE 100 LIBROS</td>\n",
       "      <td>1 o 2 veces por semana</td>\n",
       "      <td>3 a 5 veces por semana</td>\n",
       "      <td>Nunca o rara vez comemos eso</td>\n",
       "      <td>Peor</td>\n",
       "      <td>Entre 30 y 60 minutos</td>\n",
       "      <td>Entre 30 y 60 minutos</td>\n",
       "      <td>Menos de 10 horas</td>\n",
       "      <td>Si, en efectivo</td>\n",
       "      <td>39008</td>\n",
       "      <td>147707000156</td>\n",
       "      <td>INSTITUCION EDUCATIVA DEPARTAMENTAL ANTONIO BR...</td>\n",
       "      <td>MIXTO</td>\n",
       "      <td>OFICIAL</td>\n",
       "      <td>A</td>\n",
       "      <td>N</td>\n",
       "      <td>TÉCNICO/ACADÉMICO</td>\n",
       "      <td>147707000156</td>\n",
       "      <td>COL DPTAL ANTONIO BRUGES CARMONA</td>\n",
       "      <td>S</td>\n",
       "      <td>URBANO</td>\n",
       "      <td>MAÑANA</td>\n",
       "      <td>47707</td>\n",
       "      <td>SANTA ANA</td>\n",
       "      <td>47</td>\n",
       "      <td>MAGDALENA</td>\n",
       "      <td>N</td>\n",
       "      <td>47707</td>\n",
       "      <td>SANTA ANA</td>\n",
       "      <td>MAGDALENA</td>\n",
       "      <td>47</td>\n",
       "      <td>47</td>\n",
       "      <td>33</td>\n",
       "      <td>2</td>\n",
       "      <td>48</td>\n",
       "      <td>42</td>\n",
       "      <td>2</td>\n",
       "      <td>37</td>\n",
       "      <td>15</td>\n",
       "      <td>1</td>\n",
       "      <td>30</td>\n",
       "      <td>8</td>\n",
       "      <td>1</td>\n",
       "      <td>54.0</td>\n",
       "      <td>67</td>\n",
       "      <td>A1</td>\n",
       "      <td>208</td>\n",
       "      <td>25</td>\n",
       "      <td>50.9421557404314</td>\n",
       "      <td>2.0</td>\n",
       "      <td>2.0</td>\n",
       "      <td>PUBLICAR</td>\n",
       "      <td>NO</td>\n",
       "    </tr>\n",
       "  </tbody>\n",
       "</table>\n",
       "</div>"
      ],
      "text/plain": [
       "  ESTU_TIPODOCUMENTO ESTU_NACIONALIDAD ESTU_GENERO    ESTU_FECHANACIMIENTO  \\\n",
       "0                 TI          COLOMBIA           M  02/18/2002 12:00:00 AM   \n",
       "\n",
       "   PERIODO  ESTU_CONSECUTIVO ESTU_ESTUDIANTE ESTU_TIENEETNIA ESTU_PAIS_RESIDE  \\\n",
       "0    20194  SB11201940031558      ESTUDIANTE              No         COLOMBIA   \n",
       "\n",
       "  ESTU_ETNIA ESTU_DEPTO_RESIDE ESTU_COD_RESIDE_DEPTO ESTU_MCPIO_RESIDE  \\\n",
       "0          -         MAGDALENA                    47         SANTA ANA   \n",
       "\n",
       "  ESTU_COD_RESIDE_MCPIO FAMI_ESTRATOVIVIENDA FAMI_PERSONASHOGAR  \\\n",
       "0                 47707            Estrato 3              5 a 6   \n",
       "\n",
       "  FAMI_CUARTOSHOGAR             FAMI_EDUCACIONPADRE  \\\n",
       "0             Cinco  Educación profesional completa   \n",
       "\n",
       "                  FAMI_EDUCACIONMADRE FAMI_TRABAJOLABORPADRE  \\\n",
       "0  Secundaria (Bachillerato) completa              No aplica   \n",
       "\n",
       "                      FAMI_TRABAJOLABORMADRE FAMI_TIENEINTERNET  \\\n",
       "0  Trabaja en el hogar, no trabaja o estudia                 Si   \n",
       "\n",
       "  FAMI_TIENESERVICIOTV FAMI_TIENECOMPUTADOR FAMI_TIENELAVADORA  \\\n",
       "0                   Si                   No                 Si   \n",
       "\n",
       "  FAMI_TIENEHORNOMICROOGAS FAMI_TIENEAUTOMOVIL FAMI_TIENEMOTOCICLETA  \\\n",
       "0                       Si                  No                    No   \n",
       "\n",
       "  FAMI_TIENECONSOLAVIDEOJUEGOS     FAMI_NUMLIBROS FAMI_COMELECHEDERIVADOS  \\\n",
       "0                           No  MÁS DE 100 LIBROS  1 o 2 veces por semana   \n",
       "\n",
       "  FAMI_COMECARNEPESCADOHUEVO FAMI_COMECEREALFRUTOSLEGUMBRE  \\\n",
       "0     3 a 5 veces por semana  Nunca o rara vez comemos eso   \n",
       "\n",
       "  FAMI_SITUACIONECONOMICA ESTU_DEDICACIONLECTURADIARIA  \\\n",
       "0                    Peor        Entre 30 y 60 minutos   \n",
       "\n",
       "  ESTU_DEDICACIONINTERNET ESTU_HORASSEMANATRABAJA ESTU_TIPOREMUNERACION  \\\n",
       "0   Entre 30 y 60 minutos       Menos de 10 horas       Si, en efectivo   \n",
       "\n",
       "   COLE_CODIGO_ICFES  COLE_COD_DANE_ESTABLECIMIENTO  \\\n",
       "0              39008                   147707000156   \n",
       "\n",
       "                         COLE_NOMBRE_ESTABLECIMIENTO COLE_GENERO  \\\n",
       "0  INSTITUCION EDUCATIVA DEPARTAMENTAL ANTONIO BR...       MIXTO   \n",
       "\n",
       "  COLE_NATURALEZA COLE_CALENDARIO COLE_BILINGUE      COLE_CARACTER  \\\n",
       "0         OFICIAL               A             N  TÉCNICO/ACADÉMICO   \n",
       "\n",
       "   COLE_COD_DANE_SEDE                  COLE_NOMBRE_SEDE COLE_SEDE_PRINCIPAL  \\\n",
       "0        147707000156  COL DPTAL ANTONIO BRUGES CARMONA                   S   \n",
       "\n",
       "  COLE_AREA_UBICACION COLE_JORNADA  COLE_COD_MCPIO_UBICACION  \\\n",
       "0              URBANO       MAÑANA                     47707   \n",
       "\n",
       "  COLE_MCPIO_UBICACION  COLE_COD_DEPTO_UBICACION COLE_DEPTO_UBICACION  \\\n",
       "0            SANTA ANA                        47            MAGDALENA   \n",
       "\n",
       "  ESTU_PRIVADO_LIBERTAD  ESTU_COD_MCPIO_PRESENTACION ESTU_MCPIO_PRESENTACION  \\\n",
       "0                     N                        47707               SANTA ANA   \n",
       "\n",
       "  ESTU_DEPTO_PRESENTACION  ESTU_COD_DEPTO_PRESENTACION  PUNT_LECTURA_CRITICA  \\\n",
       "0               MAGDALENA                           47                    47   \n",
       "\n",
       "   PERCENTIL_LECTURA_CRITICA  DESEMP_LECTURA_CRITICA  PUNT_MATEMATICAS  \\\n",
       "0                         33                       2                48   \n",
       "\n",
       "   PERCENTIL_MATEMATICAS  DESEMP_MATEMATICAS  PUNT_C_NATURALES  \\\n",
       "0                     42                   2                37   \n",
       "\n",
       "   PERCENTIL_C_NATURALES  DESEMP_C_NATURALES  PUNT_SOCIALES_CIUDADANAS  \\\n",
       "0                     15                   1                        30   \n",
       "\n",
       "   PERCENTIL_SOCIALES_CIUDADANAS  DESEMP_SOCIALES_CIUDADANAS  PUNT_INGLES  \\\n",
       "0                              8                           1         54.0   \n",
       "\n",
       "   PERCENTIL_INGLES DESEMP_INGLES  PUNT_GLOBAL PERCENTIL_GLOBAL  \\\n",
       "0                67            A1          208               25   \n",
       "\n",
       "  ESTU_INSE_INDIVIDUAL ESTU_NSE_INDIVIDUAL  ESTU_NSE_ESTABLECIMIENTO  \\\n",
       "0     50.9421557404314                 2.0                       2.0   \n",
       "\n",
       "  ESTU_ESTADOINVESTIGACION ESTU_GENERACION-E  \n",
       "0                 PUBLICAR                NO  "
      ]
     },
     "execution_count": 153,
     "metadata": {},
     "output_type": "execute_result"
    }
   ],
   "source": [
    "pd.set_option('display.max_columns', None)\n",
    "df_icfes = pd.read_csv('Saber_11_2019-2.csv')\n",
    "df_icfes.head(1)"
   ]
  },
  {
   "attachments": {},
   "cell_type": "markdown",
   "metadata": {},
   "source": [
    "Seleccionamos campos"
   ]
  },
  {
   "cell_type": "code",
   "execution_count": 154,
   "metadata": {},
   "outputs": [
    {
     "data": {
      "text/html": [
       "<div>\n",
       "<style scoped>\n",
       "    .dataframe tbody tr th:only-of-type {\n",
       "        vertical-align: middle;\n",
       "    }\n",
       "\n",
       "    .dataframe tbody tr th {\n",
       "        vertical-align: top;\n",
       "    }\n",
       "\n",
       "    .dataframe thead th {\n",
       "        text-align: right;\n",
       "    }\n",
       "</style>\n",
       "<table border=\"1\" class=\"dataframe\">\n",
       "  <thead>\n",
       "    <tr style=\"text-align: right;\">\n",
       "      <th></th>\n",
       "      <th>ESTU_TIPODOCUMENTO</th>\n",
       "      <th>ESTU_GENERO</th>\n",
       "      <th>ESTU_CONSECUTIVO</th>\n",
       "      <th>ESTU_COD_RESIDE_DEPTO</th>\n",
       "      <th>FAMI_ESTRATOVIVIENDA</th>\n",
       "      <th>COLE_COD_DANE_ESTABLECIMIENTO</th>\n",
       "      <th>COLE_NOMBRE_ESTABLECIMIENTO</th>\n",
       "      <th>COLE_COD_MCPIO_UBICACION</th>\n",
       "      <th>COLE_MCPIO_UBICACION</th>\n",
       "      <th>COLE_DEPTO_UBICACION</th>\n",
       "    </tr>\n",
       "  </thead>\n",
       "  <tbody>\n",
       "    <tr>\n",
       "      <th>0</th>\n",
       "      <td>TI</td>\n",
       "      <td>M</td>\n",
       "      <td>SB11201940031558</td>\n",
       "      <td>47</td>\n",
       "      <td>Estrato 3</td>\n",
       "      <td>147707000156</td>\n",
       "      <td>INSTITUCION EDUCATIVA DEPARTAMENTAL ANTONIO BR...</td>\n",
       "      <td>47707</td>\n",
       "      <td>SANTA ANA</td>\n",
       "      <td>MAGDALENA</td>\n",
       "    </tr>\n",
       "  </tbody>\n",
       "</table>\n",
       "</div>"
      ],
      "text/plain": [
       "  ESTU_TIPODOCUMENTO ESTU_GENERO  ESTU_CONSECUTIVO ESTU_COD_RESIDE_DEPTO  \\\n",
       "0                 TI           M  SB11201940031558                    47   \n",
       "\n",
       "  FAMI_ESTRATOVIVIENDA  COLE_COD_DANE_ESTABLECIMIENTO  \\\n",
       "0            Estrato 3                   147707000156   \n",
       "\n",
       "                         COLE_NOMBRE_ESTABLECIMIENTO  \\\n",
       "0  INSTITUCION EDUCATIVA DEPARTAMENTAL ANTONIO BR...   \n",
       "\n",
       "   COLE_COD_MCPIO_UBICACION COLE_MCPIO_UBICACION COLE_DEPTO_UBICACION  \n",
       "0                     47707            SANTA ANA            MAGDALENA  "
      ]
     },
     "execution_count": 154,
     "metadata": {},
     "output_type": "execute_result"
    }
   ],
   "source": [
    "df_icfes[[\"ESTU_TIPODOCUMENTO\",\"ESTU_GENERO\",\"ESTU_CONSECUTIVO\",\"ESTU_COD_RESIDE_DEPTO\",\"FAMI_ESTRATOVIVIENDA\",\"COLE_COD_DANE_ESTABLECIMIENTO\",\"COLE_NOMBRE_ESTABLECIMIENTO\",\"COLE_COD_MCPIO_UBICACION\",\"COLE_MCPIO_UBICACION\",\"COLE_DEPTO_UBICACION\"]].head(1)"
   ]
  },
  {
   "attachments": {},
   "cell_type": "markdown",
   "metadata": {},
   "source": [
    "Cargamos los colegio de colombia"
   ]
  },
  {
   "cell_type": "code",
   "execution_count": null,
   "metadata": {},
   "outputs": [],
   "source": [
    "url = (\"https://raw.githubusercontent.com/Juan-Salazar-Saenz/Geo/master/Base%20-%20Colegio%20colombia.csv\")\n",
    "df_colegio_col = pd.read_csv(url,encoding='latin-1',index_col=False)\n",
    "df_colegio_col.head(1)\n",
    "\n",
    "#df_colegio_col = df_colegio_col[df_colegio_col['NOMBRE_MUNICIPIO'] == 'BOGOTA D.C.']\n",
    "#df_colegio_col.head()\n",
    "\n",
    "#df_colegio_col = df_colegio_col[df_colegio_col['NOMBRE_MUNICIPIO'] == 'CALI']\n",
    "#df_colegio_col.head(1)\n"
   ]
  },
  {
   "attachments": {},
   "cell_type": "markdown",
   "metadata": {},
   "source": [
    "Seleccionamos datos"
   ]
  },
  {
   "cell_type": "code",
   "execution_count": null,
   "metadata": {},
   "outputs": [],
   "source": [
    "df_colegio_col[[\"COD_COL\",\"NOM_COL\",\"CODIGO_DEPARTAMENTO\",\"NOMBRE_DEPARTAMENTO\",\"NOMBRE_MUNICIPIO\",\"LATITUD\",\"LONGITUD\",\"NOMBRE_MUNICIPIO\"]].head(1)"
   ]
  },
  {
   "attachments": {},
   "cell_type": "markdown",
   "metadata": {},
   "source": [
    "hacemos un merge para traer datos relevantes de los colegio y sus municipios a los que pertenecen\n",
    "\n",
    "df_icfes[[\"ESTU_TIPODOCUMENTO\",\"ESTU_GENERO\",\"ESTU_CONSECUTIVO\",\"ESTU_COD_RESIDE_DEPTO\",\"FAMI_ESTRATOVIVIENDA\",\"COLE_COD_DANE_ESTABLECIMIENTO\",\"COLE_NOMBRE_ESTABLECIMIENTO\",\"COLE_COD_MCPIO_UBICACION\",\"COLE_MCPIO_UBICACION\",\"COLE_DEPTO_UBICACION\"]]\n",
    "\n",
    "df_colegio_col[[\"COD_COL\",\"NOM_COL\",\"CODIGO_DEPARTAMENTO\",\"NOMBRE_DEPARTAMENTO\",\"NOMBRE_MUNICIPIO\",\"LATITUD\",\"LONGITUD\",\"NOMBRE_MUNICIPIO\"]]"
   ]
  },
  {
   "cell_type": "code",
   "execution_count": null,
   "metadata": {},
   "outputs": [],
   "source": [
    "new_df = pd.merge(df_icfes[[\"ESTU_TIPODOCUMENTO\",\"ESTU_GENERO\",\"ESTU_CONSECUTIVO\",\"ESTU_COD_RESIDE_DEPTO\",\"FAMI_ESTRATOVIVIENDA\",\"COLE_COD_DANE_ESTABLECIMIENTO\",\"COLE_NOMBRE_ESTABLECIMIENTO\",\"COLE_COD_MCPIO_UBICACION\",\"COLE_MCPIO_UBICACION\",\"COLE_DEPTO_UBICACION\"]], df_colegio_col[[\"COD_COL\",\"NOM_COL\",\"CODIGO_DEPARTAMENTO\",\"NOMBRE_DEPARTAMENTO\",\"NOMBRE_MUNICIPIO\",\"LATITUD\",\"LONGITUD\",\"NOMBRE_MUNICIPIO\"]],  how='inner', left_on=['COLE_COD_DANE_ESTABLECIMIENTO'], right_on = ['COD_COL'])\n",
    "new_df.head(1)"
   ]
  },
  {
   "attachments": {},
   "cell_type": "markdown",
   "metadata": {},
   "source": [
    "Eliminamos duplicados por codigo dane"
   ]
  },
  {
   "cell_type": "code",
   "execution_count": null,
   "metadata": {},
   "outputs": [],
   "source": [
    "print(\"Con duplicado -->\" + str(new_df.__len__()))\n",
    "df_sin_duplicados = new_df.drop_duplicates(subset=['COD_COL'])\n",
    "print(\"Sin duplicado -->\" + str(df_sin_duplicados.__len__()))\n",
    "df_sin_duplicados.head(1)"
   ]
  },
  {
   "attachments": {},
   "cell_type": "markdown",
   "metadata": {},
   "source": [
    "Limpiamos el codigo en lalitud y longuitud para los valores que tengan nulos"
   ]
  },
  {
   "cell_type": "code",
   "execution_count": null,
   "metadata": {},
   "outputs": [],
   "source": [
    "print(\"Sin limpiar -->\" + str(df_sin_duplicados.__len__()))\n",
    "df_sin_duplicados_clean = df_sin_duplicados.dropna(subset=[\"LATITUD\", \"LONGITUD\"])\n",
    "print(\"con limpiar -->\" + str(df_sin_duplicados_clean.__len__()))"
   ]
  },
  {
   "attachments": {},
   "cell_type": "markdown",
   "metadata": {},
   "source": [
    "Ajustamos localizacion de los colegio"
   ]
  },
  {
   "cell_type": "code",
   "execution_count": null,
   "metadata": {},
   "outputs": [],
   "source": [
    "df_sin_duplicados_clean.columns.tolist()"
   ]
  },
  {
   "cell_type": "code",
   "execution_count": null,
   "metadata": {},
   "outputs": [],
   "source": [
    "from decimal import Decimal\n",
    "def acomodar(x):\n",
    "  X = x.replace(',','.')  \n",
    "  return Decimal(X)\n",
    "df_sin_duplicados_clean['LATITUD'] = df_sin_duplicados_clean.apply(lambda x: acomodar(str(x[15])),axis=1,result_type='expand') \n",
    "df_sin_duplicados_clean['LONGITUD'] = df_sin_duplicados_clean.apply(lambda x: acomodar(str(x[16])),axis=1,result_type='expand') \n",
    "df_sin_duplicados_clean.head(1)"
   ]
  },
  {
   "attachments": {},
   "cell_type": "markdown",
   "metadata": {},
   "source": [
    "importamos libreria "
   ]
  },
  {
   "cell_type": "code",
   "execution_count": null,
   "metadata": {},
   "outputs": [],
   "source": [
    "\n",
    "import folium\n",
    "from folium import plugins\n",
    "from folium.plugins import FloatImage\n",
    "from folium.plugins import GroupedLayerControl\n",
    "from branca.element import Figure\n",
    "import numpy as np\n",
    "import json\n",
    "import requests"
   ]
  },
  {
   "attachments": {},
   "cell_type": "markdown",
   "metadata": {},
   "source": [
    "creamos el mapa"
   ]
  },
  {
   "cell_type": "code",
   "execution_count": null,
   "metadata": {},
   "outputs": [],
   "source": [
    "#Creamos el mapa y le asignamos limites\n",
    "\n",
    "min_lon, max_lon =  -65.6892365 ,-85.6892365\n",
    "min_lat, max_lat =  14.3195715, -6.3195715\n",
    "\n",
    "m = folium.Map(\n",
    "    location=[4.6214113,-74.0198998], \n",
    "    zoom_start=10,\n",
    "    min_lat=min_lat,\n",
    "    max_lat=max_lat,\n",
    "    min_lon=min_lon,\n",
    "    max_lon=max_lon,\n",
    "    max_bounds=True,\n",
    "    tiles=\"OpenStreetMap\",\n",
    "    control_scale=True,\n",
    "    )"
   ]
  },
  {
   "attachments": {},
   "cell_type": "markdown",
   "metadata": {},
   "source": [
    "cargamos la imagen de cordenadas y la agregamos al mapa"
   ]
  },
  {
   "cell_type": "code",
   "execution_count": null,
   "metadata": {},
   "outputs": [],
   "source": [
    "url = (\n",
    "    \"https://raw.githubusercontent.com/ocefpaf/secoora_assets_map/\"\n",
    "    \"a250729bbcf2ddd12f46912d36c33f7539131bec/secoora_icons/rose.png\"\n",
    ")\n",
    "FloatImage(url, bottom=10, left=10).add_to(m)"
   ]
  },
  {
   "attachments": {},
   "cell_type": "markdown",
   "metadata": {},
   "source": [
    "le damos tamañan al mapa para cuando se vaya a mostrar"
   ]
  },
  {
   "cell_type": "code",
   "execution_count": null,
   "metadata": {},
   "outputs": [],
   "source": [
    "#creamos el tamañao del mapa en la pantalla\n",
    "width, height = \"100%\", 500\n",
    "fig = Figure(width=width, height=height).add_child(m)"
   ]
  },
  {
   "attachments": {},
   "cell_type": "markdown",
   "metadata": {},
   "source": [
    "creamos funcion para converir pandas a jsonGeo"
   ]
  },
  {
   "cell_type": "code",
   "execution_count": null,
   "metadata": {},
   "outputs": [],
   "source": [
    "def convertir_PD_to_JSON_Geo(pandas):\n",
    "    \n",
    "    json_A = {}\n",
    "    json_A['type'] = 'FeatureCollection'\n",
    "    json_A['features'] = []\n",
    "    for geo in range(pandas.__len__()):\n",
    "        data = {}\n",
    "        data['type'] = 'Feature'\n",
    "        data['properties'] = {\n",
    "            'dpto': pandas['dpto'].iloc[geo],\n",
    "            'nombre_dpt' : str(pandas['nombre_dpt'].iloc[geo]),\n",
    "            'lon' : pandas['lon'].iloc[geo],\n",
    "            'lat' : pandas['lat'].iloc[geo]}\n",
    "        data['geometry'] = str(pandas['geo_shape'].iloc[geo])        \n",
    "        data['id'] = pandas['dpto'].iloc[geo]\n",
    "        json_A['features'].append(data)   \n",
    "        json_A = str(json_A).replace('\"', ' ').replace(\"'\", '\"')\n",
    "    return json_A"
   ]
  },
  {
   "attachments": {},
   "cell_type": "markdown",
   "metadata": {},
   "source": [
    "cargamos los departametos"
   ]
  },
  {
   "cell_type": "code",
   "execution_count": null,
   "metadata": {},
   "outputs": [],
   "source": [
    "#Agregamos los departamentos\n",
    "\n",
    "import requests\n",
    "\n",
    "url = (\"https://raw.githubusercontent.com/Juan-Salazar-Saenz/Geo/master/Output-Departamentos-Colombia.json\")\n",
    "geo_json_data = json.loads(requests.get(url).text)\n",
    "\n",
    "datos_dep_df = pd.read_csv(\"https://raw.githubusercontent.com/Juan-Salazar-Saenz/Geo/master/Output-Departamentos-Colombia.csv\")\n"
   ]
  },
  {
   "cell_type": "code",
   "execution_count": null,
   "metadata": {},
   "outputs": [],
   "source": [
    "datos_dep_df.head(1)"
   ]
  },
  {
   "attachments": {},
   "cell_type": "markdown",
   "metadata": {},
   "source": [
    "creamos lista de departamentos y la ordenamos"
   ]
  },
  {
   "cell_type": "code",
   "execution_count": null,
   "metadata": {},
   "outputs": [],
   "source": [
    "Lista_dep = datos_dep_df[\"dpto\"].unique()\n",
    "\n",
    "#Lista_dep = Lista_dep.sort()\n",
    "array_ordenado = np.sort(Lista_dep)\n",
    "array_ordenado \n",
    "\n",
    "\n"
   ]
  },
  {
   "attachments": {},
   "cell_type": "markdown",
   "metadata": {},
   "source": [
    "agregamos los municipios y los colegios"
   ]
  },
  {
   "cell_type": "code",
   "execution_count": null,
   "metadata": {},
   "outputs": [],
   "source": [
    "def Colegio_por_departamento(departamento,mapa):\n",
    "    df_col_dep = df_sin_duplicados_clean[df_sin_duplicados[\"ESTU_COD_RESIDE_DEPTO\"] == departamento]\n",
    "    \n",
    "    marker_cluster_colegios = plugins.MarkerCluster(name='Colegios')\n",
    "    \n",
    "    for ine, departamento in df_col_dep.iterrows():\n",
    "        latitud = departamento[\"LATITUD\"]\n",
    "        longitud = departamento[\"LONGITUD\"]\n",
    "        nombre = departamento[\"NOMBRE_DEPARTAMENTO\"]    \n",
    "        marker_cluster_colegios.add_child(folium.Marker([latitud, longitud],\n",
    "                                                tooltip=nombre,\n",
    "                                                icon=folium.Icon(color=\"blue\", icon=\"ok-sign\"),\n",
    "                                                zoom_on_click=True            \n",
    "                                                ))\n",
    "\n",
    "    # Add the MarkerCluster to the map\n",
    "    mapa.add_child(marker_cluster_colegios)"
   ]
  },
  {
   "attachments": {},
   "cell_type": "markdown",
   "metadata": {},
   "source": [
    "Agregamos primero para todo el pais"
   ]
  },
  {
   "cell_type": "code",
   "execution_count": null,
   "metadata": {},
   "outputs": [],
   "source": [
    "df_sin_duplicados_clean.__len__()"
   ]
  },
  {
   "cell_type": "code",
   "execution_count": null,
   "metadata": {},
   "outputs": [],
   "source": [
    "#m = folium.Map(location=[4.6214113,-74.0198998], zoom_start=10) \n",
    "\n",
    "#Creamos lista de arreglos\n",
    "coleccion_departamentos = []\n",
    "\n",
    "#Cargamos la opcion de todos \n",
    "fg1 = folium.FeatureGroup(name=\"Todos\")  \n",
    "folium.GeoJson(geo_json_data,zoom_on_click=True).add_to(fg1) \n",
    "coleccion_departamentos.append(fg1)\n",
    "\n",
    "marker_cluster_colegios = plugins.MarkerCluster(name='Colegios')\n",
    "\n",
    "df_sin_duplicados_clean = df_sin_duplicados_clean.dropna(subset=[\"LATITUD\", \"LONGITUD\"])\n",
    "df_sin_duplicados_clean1 = df_sin_duplicados_clean.head(2800)\n",
    "\n",
    "for ine, departamento in df_sin_duplicados_clean1.iterrows():\n",
    "        latitud = departamento[\"LATITUD\"]\n",
    "        longitud = departamento[\"LONGITUD\"]\n",
    "        nombre = departamento[\"COLE_NOMBRE_ESTABLECIMIENTO\"]    \n",
    "        marker_cluster_colegios.add_child(folium.Marker([latitud, longitud],\n",
    "                                                tooltip=nombre,\n",
    "                                                icon=folium.Icon(color=\"blue\", icon=\"ok-sign\"),\n",
    "                                                zoom_on_click=True            \n",
    "                                                ))\n",
    "\n",
    "    # Add the MarkerCluster to the map\n",
    "\n",
    "fg1.add_child(marker_cluster_colegios)\n",
    "\n",
    "m.add_child(fg1)\n",
    "\n",
    "#GroupedLayerControl(\n",
    "#    groups={'Departamentos': coleccion_departamentos},\n",
    "#).add_to(m)\n",
    "m"
   ]
  },
  {
   "cell_type": "code",
   "execution_count": null,
   "metadata": {},
   "outputs": [],
   "source": [
    "#m = folium.Map(location=[4.6214113,-74.0198998], zoom_start=10) \n",
    "\n",
    "#coleccion_departamentos= []\n",
    "#geoJson = convertir_PD_to_JSON_Geo(datos_dep_df[datos_dep_df['dpto'] == 15])\n",
    "\n",
    "#fg1 = folium.FeatureGroup(name=depe.item())\n",
    "#folium.GeoJson(geoJson,zoom_on_click=True).add_to(fg1) \n",
    "#m.add_child(fg1)\n",
    "#coleccion_departamentos.append(fg1)\n",
    "\n",
    "for p in array_ordenado:\n",
    "    #Cargamos el geo json\n",
    "    geoJson = convertir_PD_to_JSON_Geo(datos_dep_df[datos_dep_df['dpto'] == p])\n",
    "        \n",
    "    #Nombre del departamento\n",
    "    hom_depa = datos_dep_df[\"nombre_dpt\"][datos_dep_df[\"dpto\"] == p]\n",
    "    \n",
    "    #Creamos un parametro de busqueda con el nombre del departamento\n",
    "    fg1 = folium.FeatureGroup(name=hom_depa.item())  \n",
    "    \n",
    "    #cargamos el poligono de geo json que creamos \n",
    "    folium.GeoJson(geoJson,zoom_on_click=True).add_to(fg1) \n",
    "    \n",
    "    #agregamos el geo json al filtro\n",
    "    coleccion_departamentos.append(fg1)\n",
    "    \n",
    "    #Cargamos los colegio del departamento\n",
    "    df_col_dep = df_sin_duplicados_clean[df_sin_duplicados_clean[\"ESTU_COD_RESIDE_DEPTO\"] == str(p)]\n",
    "    \n",
    "    #Si tiene mas de 1 los graficamos\n",
    "    if df_col_dep.__len__() > 0:\n",
    "        marker_cluster_colegios = plugins.MarkerCluster(name=str('Colegios' + hom_depa.item()))\n",
    "    \n",
    "        for ine, departamento in df_col_dep.iterrows():\n",
    "            latitud = departamento[\"LATITUD\"]\n",
    "            longitud = departamento[\"LONGITUD\"]\n",
    "            nombre = departamento[\"NOMBRE_DEPARTAMENTO\"]    \n",
    "            marker_cluster_colegios.add_child(folium.Marker([latitud, longitud],\n",
    "                                                    tooltip=nombre,\n",
    "                                                    icon=folium.Icon(color=\"blue\", icon=\"ok-sign\"),\n",
    "                                                    zoom_on_click=True            \n",
    "                                                    ))\n",
    "        \n",
    "        fg1.add_child(marker_cluster_colegios)\n",
    "    m.add_child(fg1)\n",
    "    \n",
    "#Cargamos el menu cuando ya acabamos\n",
    "GroupedLayerControl(\n",
    "    groups={'Departamentos': coleccion_departamentos},\n",
    ").add_to(m)\n",
    "\n",
    "#mostramos los filtro en el mapa\n",
    "folium.LayerControl(collapsed=True).add_to(m)"
   ]
  },
  {
   "attachments": {},
   "cell_type": "markdown",
   "metadata": {},
   "source": [
    "Agregamos los limited de consulta del mapa"
   ]
  },
  {
   "cell_type": "code",
   "execution_count": null,
   "metadata": {},
   "outputs": [],
   "source": [
    "#Agregamos los limites del mapa en forma de puntos para que el usuario lo sepa\n",
    "\n",
    "kw = {\n",
    "    \"radius\": 10,\n",
    "    \"color\": \"black\",\n",
    "    \"fill\": True,\n",
    "    \"weight\": 1,\n",
    "    \"fill_color\": \"green\",\n",
    "    \"fill_opacity\": 1,\n",
    "}\n",
    "\n",
    "c0 = folium.CircleMarker(location=[max_lat, min_lon], tooltip=\"Inferior Derecha\", **kw)\n",
    "c1 = folium.CircleMarker(location=[min_lat, min_lon], tooltip=\"Superior Derecha\", **kw)\n",
    "c2 = folium.CircleMarker(location=[min_lat, max_lon], tooltip=\"Superior Izquierda\", **kw)\n",
    "c3 = folium.CircleMarker(location=[max_lat, max_lon], tooltip=\"Inferior Izquierda\", **kw)\n",
    "\n",
    "for c in [c0, c1, c2, c3]:\n",
    "    m.add_child(c)"
   ]
  },
  {
   "attachments": {},
   "cell_type": "markdown",
   "metadata": {},
   "source": [
    "Agregamos lo nombre de los departamentos por separado por si se requieren quitar"
   ]
  },
  {
   "cell_type": "code",
   "execution_count": null,
   "metadata": {},
   "outputs": [],
   "source": [
    "#Agregamos los departamentos\n",
    "marker_cluster = plugins.MarkerCluster(name='Nombre Departamentos')\n",
    "\n",
    "\n",
    "for ine, departamento in datos_dep_df.iterrows():\n",
    "    latitud = departamento[\"lat\"]\n",
    "    longitud = departamento[\"lon\"]\n",
    "    nombre = departamento[\"nombre_dpt\"]    \n",
    "    marker_cluster.add_child(folium.Marker([latitud, longitud],\n",
    "                                            tooltip=nombre,\n",
    "                                            icon=folium.Icon(color=\"green\", icon=\"ok-sign\"),\n",
    "                                            zoom_on_click=True            \n",
    "                                            ))\n",
    "\n",
    "# Add the MarkerCluster to the map\n",
    "m.add_child(marker_cluster)"
   ]
  },
  {
   "cell_type": "code",
   "execution_count": null,
   "metadata": {},
   "outputs": [],
   "source": [
    "#Agregamos un mini mapa para saber donde estamos\n",
    "plugins.MiniMap(tile_layer=\"Stamen Toner\",position=\"topleft\").add_to(m)\n"
   ]
  },
  {
   "cell_type": "code",
   "execution_count": null,
   "metadata": {},
   "outputs": [],
   "source": [
    "#Agregamos el control de visualizacion\n",
    "folium.LayerControl(collapsed=True).add_to(m)"
   ]
  },
  {
   "cell_type": "code",
   "execution_count": null,
   "metadata": {},
   "outputs": [],
   "source": [
    "#Mostramos mapa\n",
    "m\n"
   ]
  }
 ],
 "metadata": {
  "kernelspec": {
   "display_name": "Python 3",
   "language": "python",
   "name": "python3"
  },
  "language_info": {
   "codemirror_mode": {
    "name": "ipython",
    "version": 3
   },
   "file_extension": ".py",
   "mimetype": "text/x-python",
   "name": "python",
   "nbconvert_exporter": "python",
   "pygments_lexer": "ipython3",
   "version": "3.11.3"
  },
  "orig_nbformat": 4
 },
 "nbformat": 4,
 "nbformat_minor": 2
}
